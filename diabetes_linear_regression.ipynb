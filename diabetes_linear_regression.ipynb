{
 "cells": [
  {
   "cell_type": "code",
   "execution_count": 31,
   "metadata": {},
   "outputs": [
    {
     "name": "stdout",
     "output_type": "stream",
     "text": [
      "Mean squared error: 1826.4841712795044\n",
      "Weights: [  -1.16678648 -237.18123633  518.31283524  309.04204042 -763.10835067\n",
      "  458.88378916   80.61107395  174.31796962  721.48087773   79.1952801 ]\n",
      "Intercept: 153.05824267739402\n"
     ]
    }
   ],
   "source": [
    "import matplotlib.pyplot as plt\n",
    "import pandas as pd\n",
    "import numpy as np  \n",
    "from sklearn import linear_model, datasets\n",
    "from sklearn.metrics import mean_squared_error\n",
    "\n",
    "\n",
    "diabetes = datasets.load_diabetes()\n",
    "\n",
    "\n",
    "# print(diabetes.keys())\n",
    "\n",
    "\n",
    "diabetes_X = diabetes.data #[: , np.newaxis , 2]\n",
    "\n",
    "\n",
    "diabetes_X_train = diabetes_X[:-30]\n",
    "diabetes_X_test = diabetes_X[-30:]\n",
    "\n",
    "diabetes_y_train = diabetes.target[:-30]\n",
    "diabetes_y_test = diabetes.target[-30:]\n",
    "\n",
    "\n",
    "model = linear_model.LinearRegression()\n",
    "model.fit(diabetes_X_train, diabetes_y_train)\n",
    "\n",
    "\n",
    "predicted_y_diabetes = model.predict(diabetes_X_test)\n",
    "\n",
    "\n",
    "mean_squared_error_value = mean_squared_error(diabetes_y_test, predicted_y_diabetes)\n",
    "print(\"Mean squared error:\", mean_squared_error_value)\n",
    "\n",
    "\n",
    "print(\"Weights:\", model.coef_)\n",
    "print(\"Intercept:\", model.intercept_)\n",
    "\n",
    "\n",
    "# USING ONE FEATURE:\n",
    "#plt.scatter(diabetes_X_test, diabetes_y_test, label=\"Actual\")\n",
    "#plt.plot(diabetes_X_test, predicted_y_diabetes, label=\"Predicted\", color=\"red\")\n",
    "#plt.xlabel(\"Feature Value\")\n",
    "#plt.ylabel(\"Target Value\")\n",
    "#plt.legend()\n",
    "#plt.show()\n",
    "\n",
    "\n",
    "#USING ONE FEATURE:\n",
    "#Mean squared error: 3035.060115291269\n",
    "#Weights: [941.43097333]\n",
    "#Intercept: 153.39713623331644\n",
    "\n",
    "#USING ALL FEATURES:\n",
    "#Mean squared error: 1826.4841712795044\n",
    "#Weights: [  -1.16678648 -237.18123633  518.31283524  309.04204042 -763.10835067\n",
    "#458.88378916   80.61107395  174.31796962  721.48087773   79.1952801 ]\n",
    "#Intercept: 153.05824267739402"
   ]
  }
 ],
 "metadata": {
  "kernelspec": {
   "display_name": "Python 3",
   "language": "python",
   "name": "python3"
  },
  "language_info": {
   "codemirror_mode": {
    "name": "ipython",
    "version": 3
   },
   "file_extension": ".py",
   "mimetype": "text/x-python",
   "name": "python",
   "nbconvert_exporter": "python",
   "pygments_lexer": "ipython3",
   "version": "3.11.5"
  }
 },
 "nbformat": 4,
 "nbformat_minor": 2
}
